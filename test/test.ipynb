{
 "cells": [
  {
   "cell_type": "code",
   "execution_count": 12,
   "metadata": {},
   "outputs": [],
   "source": [
    "import sys\n",
    "import os\n",
    "\n",
    "current_directory = os.getcwd()\n",
    "parent_directory = os.path.abspath(os.path.join(current_directory, '..'))\n",
    "if parent_directory not in sys.path:\n",
    "    sys.path.append(parent_directory)\n",
    "\n",
    "from src.diff import find_diff\n",
    "from src.text import extract_text_from_pdf"
   ]
  },
  {
   "cell_type": "code",
   "execution_count": 13,
   "metadata": {},
   "outputs": [
    {
     "data": {
      "text/plain": [
       "({'text': \"CONTRAT DE PRESTATION DE SERVICES  \\nEntre les soussignés :  \\n1. Partie Prestataire :  Société Alpha Conseil, SARL au capital de 50 000 €, immatriculée au \\nRegistre du Commerce et des Sociétés de Paris sous le numéro 123 456 789, dont le siège \\nsocial est situé au 15, rue des Champs, 75008 Paris, représentée par Monsieur Jean Dupont, en \\nquali té de gérant (ci -après dénommée le « Prestataire »).  \\n2. Partie Client :  Madame Claire Martin, demeurant au 27, avenue des Lilas, 69003 Lyon, \\nagissant en qualité de cliente (ci -après dénommée le « Client »).  \\nPréambule :  Le Prestataire propose des services de conseil et d'accompagnement en gestion \\nde projet. Le Client désire bénéficier de ces services, selon les termes et conditions définis ci -\\naprès.  \\nArticle 1 : Objet du contrat  Le présent contrat a pour objet de définir les modalités et \\nconditions dans lesquelles le Prestataire fournira au Client des services de conseil en gestion \\nde projet, notamment dans les domaines de la planification, de la coordination et du suivi de \\nproje ts. \\nArticle 2 : Durée du contrat  Le contrat est conclu pour une durée de six (6) mois à compter \\ndu 15 janvier 2024. Il pourra être renouvelé par accord écrit des deux parties.  \\nArticle 3 : Obligations des parties  \\n3.1 Obligations du Prestataire  : Le Prestataire s'engage à :  \\n• Fournir les services conformément aux besoins exprimés par le Client.  \\n• Respecter les délais convenus pour chaque étape du projet.  \\n• Maintenir la confidentialité des informations fournies par le Client.  \\n3.2 Obligations du Client  : Le Client s'engage à :  \\n• Fournir au Prestataire toutes les informations nécessaires à l'exécution des services.  \\n• Régler les factures émises par le Prestataire dans les délais prévus.  \\n• Collaborer activement avec le Prestataire pour assurer la bonne réalisation des \\nprestations.  \\nArticle 4 : Conditions financières  \\n4.1 Tarif des prestations  : Le montant total des prestations est fixé à 15 000 € HT, payable \\nen trois échéances de 5 000 € HT chacune, à raison d’une échéance tous les deux mois.  \\n4.2 Modalités de paiement  : Les paiements devront être effectués par virement bancaire sur \\nle compte du Prestataire. Tout retard de paiement donnera lieu à des pénalités calculées à un \\ntaux de 3 % par mois de retard.  \\nArticle 5 : Confidentialité  Les deux parties s'engagent à maintenir strictement confidentielles \\ntoutes les informations échangées dans le cadre de l'exécution du présent contrat, sauf accord \\npréalable écrit ou obligation légale.  \\nArticle 6 : Responsabilité  Le Prestataire est tenu à une obligation de moyens et ne saurait \\nêtre tenu responsable des conséquences liées à une utilisation inappropriée des conseils \\ndonnés. La responsabilité du Prestataire est limitée au montant des sommes perçues au titre du \\nprésen t contrat.  \\nArticle 7 : Résiliation  En cas de manquement grave par l'une des parties à ses obligations \\ncontractuelles, le contrat pourra être résilie par l'autre partie après l'envoi d'une mise en \\ndemeure restée sans effet pendant trente (30) jours.  \\nArticle 8 : Litiges  En cas de litige, les parties s'engagent à rechercher une solution amiable \\navant toute action judiciaire. À défaut, le litige sera soumis aux tribunaux compétents du \\nressort du siège social du Prestataire.  \\nFait à Paris, le 10 janvier 2024  \\nSignatures :  \\nLe Prestataire : Jean Dupont  \\n(Société Alpha Conseil)  \\nLe Client : Claire Martin  \\n \\n\",\n",
       "  'metadata': {'/Author': 'Jean-Max Rodriguez',\n",
       "   '/Creator': 'Microsoft Word',\n",
       "   '/CreationDate': \"D:20241220155518+00'00'\",\n",
       "   '/ModDate': \"D:20241220155518+00'00'\"}},\n",
       " {'text': \"CONTRAT DE PRESTATION DE SERVICES  \\nEntre les soussignés :  \\n1. Partie Prestataire :  Société Alpha Conseil, SARL au capital de 50 000 €, immatriculée au \\nRegistre du Commerce et des Sociétés de Paris sous le numéro 123 456 789, dont le siège \\nsocial est situé au 15, rue des Champs -Élysées, 75008 Paris, représentée par Monsieur Jean \\nDupont, en qualité de gérant (ci -après dénommée le « Prestataire »).  \\n2. Partie Client :  Madame Claire Martin, résidant au 27, avenue des Lilas, 69003 Lyon, \\nagissant en qualité de cliente (ci -après dénommée le « Client »).  \\nPréambule :  Le Prestataire spécialise dans les services de conseil et d'accompagnement en \\ngestion de projet. Le Client souhaite profiter de ces services, selon les termes et conditions \\nétablis ci -dessous.  \\nArticle 1 : Objet du contrat  Ce contrat vise à préciser les modalités et conditions par \\nlesquelles le Prestataire fournira des services de conseil en gestion de projet au Client, \\nnotamment dans les domaines de la planification, de la coordination et du suivi des \\nopérations.  \\nArticle 2 : Durée du contrat  Le contrat est conclu pour une période de six (6) mois à partir \\ndu 15 janvier 2024. Il pourra être prolongé d'un commun accord entre les deux parties.  \\nArticle 3 : Obligations des parties  \\n3.1 Obligations du Prestataire  : Le Prestataire s'engage à :  \\n• Fournir les services conformément aux attentes du Client.  \\n• Respecter les échéances définies pour chaque phase du projet.  \\n• Garantir la discrétion sur les informations transmises par le Client.  \\n3.2 Obligations du Client  : Le Client s'engage à :  \\n• Communiquer au Prestataire toutes les données nécessaires à l'accomplissement des \\nprestations.  \\n• Régler les factures émises par le Prestataire dans les délais convenus.  \\n• Collaborer efficacement avec le Prestataire pour permettre la réussite des prestations.  \\nArticle 4 : Conditions financières  \\n4.1 Tarif des prestations  : Le coût global des prestations est fixé à 15 000 € HT, payable en \\ntrois échéances de 5 000 € HT, à raison d'une échéance tous les deux mois.  \\n4.2 Modalités de paiement  : Les paiements devront être réalisés par virement bancaire sur le \\ncompte indiqué par le Prestataire. Tout retard dans le paiement entraînera des pénalités \\ncalculées à raison de 3 % par mois de retard.  \\nArticle 5 : Confidentialité  Les parties conviennent de garder strictement confidentielles \\ntoutes les informations échangées dans le cadre de ce contrat, sauf en cas d'accord écrit \\npréalable ou d'obligation imposée par la loi.  \\nArticle 6 : Responsabilité  Le Prestataire est tenu à une obligation de moyens et ne saurait \\nêtre tenu responsable des conséquences résultant d'une utilisation inadéquate des conseils \\nprodigués. Sa responsabilité est plafonnée au montant des sommes versées au titre du présent \\ncontra t. \\nArticle 7 : Résiliation  En cas de manquement grave de l'une des parties à ses engagements \\ncontractuels, le contrat pourra être résilie par l'autre partie après l'envoi d'une mise en \\ndemeure restée sans effet dans un délai de trente (30) jours.  \\nArticle 8 : Litiges  En cas de différend, les parties s'engagent à rechercher une solution \\namiable avant d'engager toute procédure judiciaire. En dernier recours, le litige sera porté \\ndevant les tribunaux compétents du ressort du siège social du Prestataire.  \\nFait à Paris, le 10 janvier 2024  \\nSignatures :  \\nLe Prestataire : Jean Dupont  \\n(Société Alpha Conseil)  \\nLe Client : Claire Martin  \\n \\n\",\n",
       "  'metadata': {'/Author': 'Jean-Max Rodriguez',\n",
       "   '/Creator': 'Microsoft Word',\n",
       "   '/CreationDate': \"D:20241220155833+00'00'\",\n",
       "   '/ModDate': \"D:20241220155833+00'00'\"}})"
      ]
     },
     "execution_count": 13,
     "metadata": {},
     "output_type": "execute_result"
    }
   ],
   "source": [
    "pdf1 = extract_text_from_pdf(\"contrat_test_v1.pdf\")\n",
    "pdf2 = extract_text_from_pdf(\"contrat_test_v2.pdf\")\n",
    "pdf1, pdf2"
   ]
  },
  {
   "cell_type": "code",
   "execution_count": 14,
   "metadata": {},
   "outputs": [
    {
     "ename": "TypeError",
     "evalue": "find_diff() got an unexpected keyword argument 'edit_cost'",
     "output_type": "error",
     "traceback": [
      "\u001b[0;31m---------------------------------------------------------------------------\u001b[0m",
      "\u001b[0;31mTypeError\u001b[0m                                 Traceback (most recent call last)",
      "Cell \u001b[0;32mIn[14], line 1\u001b[0m\n\u001b[0;32m----> 1\u001b[0m diffs \u001b[38;5;241m=\u001b[39m \u001b[43mfind_diff\u001b[49m\u001b[43m(\u001b[49m\u001b[43mpdf1\u001b[49m\u001b[43m[\u001b[49m\u001b[38;5;124;43m'\u001b[39;49m\u001b[38;5;124;43mtext\u001b[39;49m\u001b[38;5;124;43m'\u001b[39;49m\u001b[43m]\u001b[49m\u001b[43m,\u001b[49m\u001b[43m \u001b[49m\u001b[43mpdf2\u001b[49m\u001b[43m[\u001b[49m\u001b[38;5;124;43m'\u001b[39;49m\u001b[38;5;124;43mtext\u001b[39;49m\u001b[38;5;124;43m'\u001b[39;49m\u001b[43m]\u001b[49m\u001b[43m,\u001b[49m\u001b[43m \u001b[49m\u001b[43medit_cost\u001b[49m\u001b[38;5;241;43m=\u001b[39;49m\u001b[38;5;241;43m6\u001b[39;49m\u001b[43m)\u001b[49m\n\u001b[1;32m      2\u001b[0m diffs\n",
      "\u001b[0;31mTypeError\u001b[0m: find_diff() got an unexpected keyword argument 'edit_cost'"
     ]
    }
   ],
   "source": [
    "diffs = find_diff(pdf1['text'], pdf2['text'], edit_cost=6)\n",
    "diffs"
   ]
  }
 ],
 "metadata": {
  "kernelspec": {
   "display_name": "venv",
   "language": "python",
   "name": "python3"
  },
  "language_info": {
   "codemirror_mode": {
    "name": "ipython",
    "version": 3
   },
   "file_extension": ".py",
   "mimetype": "text/x-python",
   "name": "python",
   "nbconvert_exporter": "python",
   "pygments_lexer": "ipython3",
   "version": "3.10.12"
  }
 },
 "nbformat": 4,
 "nbformat_minor": 2
}
